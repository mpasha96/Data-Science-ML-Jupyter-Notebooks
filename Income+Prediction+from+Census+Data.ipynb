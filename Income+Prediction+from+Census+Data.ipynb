{
 "cells": [
  {
   "cell_type": "markdown",
   "metadata": {},
   "source": [
    "# INCOME PREDICTION FROM CENSUS DATA"
   ]
  },
  {
   "cell_type": "markdown",
   "metadata": {},
   "source": [
    "Income is predicted using <b>Adult Dataset</b> which was extracted in <b>1994</b> from <b>Census Data</b> of the United States.\n",
    "\n",
    "<b>The task is to predict whether the citizen’s income exceeds Fifty Thousand Dollars a year</b>.\n",
    "\n",
    "It is a multivariate dataset with 14 features, out of which <b>6 are real</b> and <b>8 are nominal</b>. Features are:\n",
    "<ul>\n",
    "<li>Age\n",
    "<li>Workclass\n",
    "<li>Final Sampling Weight\n",
    "<li>Education\n",
    "<li>Education in Numbers\n",
    "<li>Marital Status\n",
    "<li>Occupation\n",
    "<li>Relationship\n",
    "<li>Race\n",
    "<li>Gender\n",
    "<li>Capital Gain\n",
    "<li>Capital Loss\n",
    "<li>Hours per week\n",
    "<li>Country\n",
    "<li/>Label\n",
    "</ul>\n",
    "\n",
    "This dataset has been obtained from the UCI Machine Learning Repository. The original page where the data set can be found is: http://archive.ics.uci.edu/ml/datasets/Adult."
   ]
  },
  {
   "cell_type": "markdown",
   "metadata": {},
   "source": [
    "# Data Preprocessing"
   ]
  },
  {
   "cell_type": "markdown",
   "metadata": {},
   "source": [
    "Lets Start do some preprocessing before we start predicting using a supervised ML model.  \n",
    "<ul><li>Loading Libraries\n",
    "<li>Importing Data into a pandas Dataframe\n",
    "<li>Skiping Header\n",
    "<li>Naming Coloumns</ul>"
   ]
  },
  {
   "cell_type": "code",
   "execution_count": 1,
   "metadata": {},
   "outputs": [],
   "source": [
    "import pandas as pd\n",
    "import sklearn"
   ]
  },
  {
   "cell_type": "code",
   "execution_count": 2,
   "metadata": {},
   "outputs": [
    {
     "data": {
      "text/html": [
       "<div>\n",
       "<style>\n",
       "    .dataframe thead tr:only-child th {\n",
       "        text-align: right;\n",
       "    }\n",
       "\n",
       "    .dataframe thead th {\n",
       "        text-align: left;\n",
       "    }\n",
       "\n",
       "    .dataframe tbody tr th {\n",
       "        vertical-align: top;\n",
       "    }\n",
       "</style>\n",
       "<table border=\"1\" class=\"dataframe\">\n",
       "  <thead>\n",
       "    <tr style=\"text-align: right;\">\n",
       "      <th></th>\n",
       "      <th>Age</th>\n",
       "      <th>Workclass</th>\n",
       "      <th>Final Sampling Weight</th>\n",
       "      <th>Education</th>\n",
       "      <th>Education Numbers</th>\n",
       "      <th>Marital Status</th>\n",
       "      <th>Occupation</th>\n",
       "      <th>Relationship</th>\n",
       "      <th>Race</th>\n",
       "      <th>Gender</th>\n",
       "      <th>Capital Gain</th>\n",
       "      <th>Capital Loss</th>\n",
       "      <th>Hours per week</th>\n",
       "      <th>Country</th>\n",
       "      <th>Label</th>\n",
       "    </tr>\n",
       "  </thead>\n",
       "  <tbody>\n",
       "    <tr>\n",
       "      <th>0</th>\n",
       "      <td>38.0</td>\n",
       "      <td>Private</td>\n",
       "      <td>89814.0</td>\n",
       "      <td>HS-grad</td>\n",
       "      <td>9.0</td>\n",
       "      <td>Married-civ-spouse</td>\n",
       "      <td>Farming-fishing</td>\n",
       "      <td>Husband</td>\n",
       "      <td>White</td>\n",
       "      <td>Male</td>\n",
       "      <td>0.0</td>\n",
       "      <td>0.0</td>\n",
       "      <td>50.0</td>\n",
       "      <td>United-States</td>\n",
       "      <td>&lt;=50K</td>\n",
       "    </tr>\n",
       "    <tr>\n",
       "      <th>1</th>\n",
       "      <td>28.0</td>\n",
       "      <td>Local-gov</td>\n",
       "      <td>336951.0</td>\n",
       "      <td>Assoc-acdm</td>\n",
       "      <td>12.0</td>\n",
       "      <td>Married-civ-spouse</td>\n",
       "      <td>Protective-serv</td>\n",
       "      <td>Husband</td>\n",
       "      <td>White</td>\n",
       "      <td>Male</td>\n",
       "      <td>0.0</td>\n",
       "      <td>0.0</td>\n",
       "      <td>40.0</td>\n",
       "      <td>United-States</td>\n",
       "      <td>&gt;50K</td>\n",
       "    </tr>\n",
       "    <tr>\n",
       "      <th>2</th>\n",
       "      <td>44.0</td>\n",
       "      <td>Private</td>\n",
       "      <td>160323.0</td>\n",
       "      <td>Some-college</td>\n",
       "      <td>10.0</td>\n",
       "      <td>Married-civ-spouse</td>\n",
       "      <td>Machine-op-inspct</td>\n",
       "      <td>Husband</td>\n",
       "      <td>Black</td>\n",
       "      <td>Male</td>\n",
       "      <td>7688.0</td>\n",
       "      <td>0.0</td>\n",
       "      <td>40.0</td>\n",
       "      <td>United-States</td>\n",
       "      <td>&gt;50K</td>\n",
       "    </tr>\n",
       "    <tr>\n",
       "      <th>3</th>\n",
       "      <td>34.0</td>\n",
       "      <td>Private</td>\n",
       "      <td>198693.0</td>\n",
       "      <td>10th</td>\n",
       "      <td>6.0</td>\n",
       "      <td>Never-married</td>\n",
       "      <td>Other-service</td>\n",
       "      <td>Not-in-family</td>\n",
       "      <td>White</td>\n",
       "      <td>Male</td>\n",
       "      <td>0.0</td>\n",
       "      <td>0.0</td>\n",
       "      <td>30.0</td>\n",
       "      <td>United-States</td>\n",
       "      <td>&lt;=50K</td>\n",
       "    </tr>\n",
       "    <tr>\n",
       "      <th>4</th>\n",
       "      <td>63.0</td>\n",
       "      <td>Self-emp-not-inc</td>\n",
       "      <td>104626.0</td>\n",
       "      <td>Prof-school</td>\n",
       "      <td>15.0</td>\n",
       "      <td>Married-civ-spouse</td>\n",
       "      <td>Prof-specialty</td>\n",
       "      <td>Husband</td>\n",
       "      <td>White</td>\n",
       "      <td>Male</td>\n",
       "      <td>3103.0</td>\n",
       "      <td>0.0</td>\n",
       "      <td>32.0</td>\n",
       "      <td>United-States</td>\n",
       "      <td>&gt;50K</td>\n",
       "    </tr>\n",
       "  </tbody>\n",
       "</table>\n",
       "</div>"
      ],
      "text/plain": [
       "    Age         Workclass  Final Sampling Weight     Education  \\\n",
       "0  38.0           Private                89814.0       HS-grad   \n",
       "1  28.0         Local-gov               336951.0    Assoc-acdm   \n",
       "2  44.0           Private               160323.0  Some-college   \n",
       "3  34.0           Private               198693.0          10th   \n",
       "4  63.0  Self-emp-not-inc               104626.0   Prof-school   \n",
       "\n",
       "   Education Numbers      Marital Status         Occupation   Relationship  \\\n",
       "0                9.0  Married-civ-spouse    Farming-fishing        Husband   \n",
       "1               12.0  Married-civ-spouse    Protective-serv        Husband   \n",
       "2               10.0  Married-civ-spouse  Machine-op-inspct        Husband   \n",
       "3                6.0       Never-married      Other-service  Not-in-family   \n",
       "4               15.0  Married-civ-spouse     Prof-specialty        Husband   \n",
       "\n",
       "    Race Gender  Capital Gain  Capital Loss  Hours per week        Country  \\\n",
       "0  White   Male           0.0           0.0            50.0  United-States   \n",
       "1  White   Male           0.0           0.0            40.0  United-States   \n",
       "2  Black   Male        7688.0           0.0            40.0  United-States   \n",
       "3  White   Male           0.0           0.0            30.0  United-States   \n",
       "4  White   Male        3103.0           0.0            32.0  United-States   \n",
       "\n",
       "   Label  \n",
       "0  <=50K  \n",
       "1   >50K  \n",
       "2   >50K  \n",
       "3  <=50K  \n",
       "4   >50K  "
      ]
     },
     "execution_count": 2,
     "metadata": {},
     "output_type": "execute_result"
    }
   ],
   "source": [
    "df = pd.read_csv('adult.dat',skiprows=17)\n",
    "df.columns = ['Age','Workclass','Final Sampling Weight','Education','Education Numbers','Marital Status','Occupation','Relationship','Race','Gender','Capital Gain','Capital Loss','Hours per week','Country','Label']\n",
    "df.head()"
   ]
  },
  {
   "cell_type": "code",
   "execution_count": 3,
   "metadata": {},
   "outputs": [
    {
     "name": "stdout",
     "output_type": "stream",
     "text": [
      "Dataframe has 45221 rows and 15 coloumns\n"
     ]
    }
   ],
   "source": [
    "print('Dataframe has '+ str(df.shape[0]) + ' rows and ' + str(df.shape[1]) + ' coloumns')"
   ]
  },
  {
   "cell_type": "markdown",
   "metadata": {},
   "source": [
    "### Eliminating Countries other than United States"
   ]
  },
  {
   "cell_type": "code",
   "execution_count": 4,
   "metadata": {},
   "outputs": [
    {
     "data": {
      "text/plain": [
       "(41291, 14)"
      ]
     },
     "execution_count": 4,
     "metadata": {},
     "output_type": "execute_result"
    }
   ],
   "source": [
    "# since we are predicting for US only we will remove other rows\n",
    "df = df[df.Country == 'United-States']\n",
    "\n",
    "# Since all the values in Countries coloumn are same, there is no need for it. we will delete it.\n",
    "df.drop('Country',axis =1,inplace=True)\n",
    "df.shape"
   ]
  },
  {
   "cell_type": "markdown",
   "metadata": {},
   "source": [
    "### Converting all nominal attributes to numeric type"
   ]
  },
  {
   "cell_type": "code",
   "execution_count": 5,
   "metadata": {},
   "outputs": [
    {
     "data": {
      "text/plain": [
       "Age                      int64\n",
       "Workclass                int64\n",
       "Final Sampling Weight    int64\n",
       "Education Numbers        int64\n",
       "Marital Status           int64\n",
       "Occupation               int64\n",
       "Relationship             int64\n",
       "Race                     int64\n",
       "Gender                   int64\n",
       "Capital Gain             int64\n",
       "Capital Loss             int64\n",
       "Hours per week           int64\n",
       "Label                    int64\n",
       "dtype: object"
      ]
     },
     "execution_count": 5,
     "metadata": {},
     "output_type": "execute_result"
    }
   ],
   "source": [
    "df['Gender'] = df['Gender'].replace({'Male':0,'Female':1})\n",
    "df['Workclass'] = df['Workclass'].replace({'Private':1,'Local-gov':2, 'Self-emp-not-inc':3, 'Federal-gov':4, 'State-gov':5,'Self-emp-inc':6, 'Without-pay':7})\n",
    "df['Occupation'] = df['Occupation'].replace({'Farming-fishing':1, 'Protective-serv':2, 'Machine-op-inspct':3,'Other-service':4, 'Prof-specialty':5, 'Craft-repair':6, 'Adm-clerical':7,'Exec-managerial':8, 'Tech-support':9, 'Sales':10, 'Transport-moving':11,'Priv-house-serv':12, 'Handlers-cleaners':13, 'Armed-Forces':14})\n",
    "df['Marital Status'] = df['Marital Status'].replace({'Married-civ-spouse':1, 'Never-married':2, 'Widowed':3, 'Separated':4,'Divorced':5, 'Married-spouse-absent':6, 'Married-AF-spouse':7})\n",
    "df['Relationship'] = df['Relationship'].replace({'Husband':1, 'Not-in-family':2, 'Unmarried':3, 'Own-child':4, 'Wife':5,'Other-relative':6})\n",
    "df['Race'] = df['Race'].replace({'White':1, 'Black':2, 'Amer-Indian-Eskimo':3, 'Asian-Pac-Islander':4,'Other':5})\n",
    "df['Label'] = df['Label'].replace({'<=50K':0, '>50K':1})\n",
    "\n",
    "# Since we already have a education in numbers coloumn we dont need education colounm of object type\n",
    "df.drop('Education',axis=1,inplace=True)\n",
    "df = df.astype(int,inplace=True)\n",
    "df.dtypes"
   ]
  },
  {
   "cell_type": "code",
   "execution_count": 15,
   "metadata": {},
   "outputs": [
    {
     "data": {
      "text/html": [
       "<div>\n",
       "<style>\n",
       "    .dataframe thead tr:only-child th {\n",
       "        text-align: right;\n",
       "    }\n",
       "\n",
       "    .dataframe thead th {\n",
       "        text-align: left;\n",
       "    }\n",
       "\n",
       "    .dataframe tbody tr th {\n",
       "        vertical-align: top;\n",
       "    }\n",
       "</style>\n",
       "<table border=\"1\" class=\"dataframe\">\n",
       "  <thead>\n",
       "    <tr style=\"text-align: right;\">\n",
       "      <th></th>\n",
       "      <th>Age</th>\n",
       "      <th>Workclass</th>\n",
       "      <th>Final Sampling Weight</th>\n",
       "      <th>Education Numbers</th>\n",
       "      <th>Marital Status</th>\n",
       "      <th>Occupation</th>\n",
       "      <th>Relationship</th>\n",
       "      <th>Race</th>\n",
       "      <th>Gender</th>\n",
       "      <th>Capital Gain</th>\n",
       "      <th>Capital Loss</th>\n",
       "      <th>Hours per week</th>\n",
       "      <th>Label</th>\n",
       "    </tr>\n",
       "  </thead>\n",
       "  <tbody>\n",
       "    <tr>\n",
       "      <th>0</th>\n",
       "      <td>38</td>\n",
       "      <td>1</td>\n",
       "      <td>89814</td>\n",
       "      <td>9</td>\n",
       "      <td>1</td>\n",
       "      <td>1</td>\n",
       "      <td>1</td>\n",
       "      <td>1</td>\n",
       "      <td>0</td>\n",
       "      <td>0</td>\n",
       "      <td>0</td>\n",
       "      <td>50</td>\n",
       "      <td>0</td>\n",
       "    </tr>\n",
       "    <tr>\n",
       "      <th>1</th>\n",
       "      <td>28</td>\n",
       "      <td>2</td>\n",
       "      <td>336951</td>\n",
       "      <td>12</td>\n",
       "      <td>1</td>\n",
       "      <td>2</td>\n",
       "      <td>1</td>\n",
       "      <td>1</td>\n",
       "      <td>0</td>\n",
       "      <td>0</td>\n",
       "      <td>0</td>\n",
       "      <td>40</td>\n",
       "      <td>1</td>\n",
       "    </tr>\n",
       "    <tr>\n",
       "      <th>2</th>\n",
       "      <td>44</td>\n",
       "      <td>1</td>\n",
       "      <td>160323</td>\n",
       "      <td>10</td>\n",
       "      <td>1</td>\n",
       "      <td>3</td>\n",
       "      <td>1</td>\n",
       "      <td>2</td>\n",
       "      <td>0</td>\n",
       "      <td>7688</td>\n",
       "      <td>0</td>\n",
       "      <td>40</td>\n",
       "      <td>1</td>\n",
       "    </tr>\n",
       "    <tr>\n",
       "      <th>3</th>\n",
       "      <td>34</td>\n",
       "      <td>1</td>\n",
       "      <td>198693</td>\n",
       "      <td>6</td>\n",
       "      <td>2</td>\n",
       "      <td>4</td>\n",
       "      <td>2</td>\n",
       "      <td>1</td>\n",
       "      <td>0</td>\n",
       "      <td>0</td>\n",
       "      <td>0</td>\n",
       "      <td>30</td>\n",
       "      <td>0</td>\n",
       "    </tr>\n",
       "    <tr>\n",
       "      <th>4</th>\n",
       "      <td>63</td>\n",
       "      <td>3</td>\n",
       "      <td>104626</td>\n",
       "      <td>15</td>\n",
       "      <td>1</td>\n",
       "      <td>5</td>\n",
       "      <td>1</td>\n",
       "      <td>1</td>\n",
       "      <td>0</td>\n",
       "      <td>3103</td>\n",
       "      <td>0</td>\n",
       "      <td>32</td>\n",
       "      <td>1</td>\n",
       "    </tr>\n",
       "  </tbody>\n",
       "</table>\n",
       "</div>"
      ],
      "text/plain": [
       "   Age  Workclass  Final Sampling Weight  Education Numbers  Marital Status  \\\n",
       "0   38          1                  89814                  9               1   \n",
       "1   28          2                 336951                 12               1   \n",
       "2   44          1                 160323                 10               1   \n",
       "3   34          1                 198693                  6               2   \n",
       "4   63          3                 104626                 15               1   \n",
       "\n",
       "   Occupation  Relationship  Race  Gender  Capital Gain  Capital Loss  \\\n",
       "0           1             1     1       0             0             0   \n",
       "1           2             1     1       0             0             0   \n",
       "2           3             1     2       0          7688             0   \n",
       "3           4             2     1       0             0             0   \n",
       "4           5             1     1       0          3103             0   \n",
       "\n",
       "   Hours per week  Label  \n",
       "0              50      0  \n",
       "1              40      1  \n",
       "2              40      1  \n",
       "3              30      0  \n",
       "4              32      1  "
      ]
     },
     "execution_count": 15,
     "metadata": {},
     "output_type": "execute_result"
    }
   ],
   "source": [
    "df.head()"
   ]
  },
  {
   "cell_type": "code",
   "execution_count": 14,
   "metadata": {},
   "outputs": [
    {
     "data": {
      "text/plain": [
       "Label\n",
       "0    30843\n",
       "1    10448\n",
       "dtype: int64"
      ]
     },
     "execution_count": 14,
     "metadata": {},
     "output_type": "execute_result"
    }
   ],
   "source": [
    "# class distribution\n",
    "df.groupby('Label').size()"
   ]
  },
  {
   "cell_type": "markdown",
   "metadata": {},
   "source": [
    "# Predictions using various Classification Models"
   ]
  },
  {
   "cell_type": "markdown",
   "metadata": {},
   "source": [
    "### Patition the dataset into train (80%) and test (20%)"
   ]
  },
  {
   "cell_type": "code",
   "execution_count": 7,
   "metadata": {},
   "outputs": [
    {
     "name": "stdout",
     "output_type": "stream",
     "text": [
      "[   38     1 89814     9     1     1     1     1     0     0     0    50]\n",
      "[0 1 1 ..., 0 0 1]\n",
      "\n",
      "Lenth of Trainging set:\n",
      " 33032 \n",
      "\n",
      "Lenth of Test set:\n",
      " 8259\n"
     ]
    }
   ],
   "source": [
    "# Extracting Features from dataset \n",
    "X = df[['Age','Workclass','Final Sampling Weight','Education Numbers','Marital Status','Occupation','Relationship','Race','Gender','Capital Gain','Capital Loss','Hours per week']]\n",
    "X = X.as_matrix()\n",
    "print(X[0])\n",
    "\n",
    "# Extracting labels column from dataset\n",
    "Y = df[['Label']]\n",
    "Y =Y.as_matrix().flatten()\n",
    "print(Y)\n",
    "\n",
    "from sklearn import model_selection\n",
    "X_train, X_validation, Y_train, Y_validation = model_selection.train_test_split(X, Y, test_size=0.2, random_state=10)\n",
    "\n",
    "print('\\nLenth of Trainging set:\\n',len(X_train),\"\\n\")\n",
    "print('Lenth of Test set:\\n',len(X_validation))"
   ]
  },
  {
   "cell_type": "markdown",
   "metadata": {},
   "source": [
    "### Decision Tree Classifier"
   ]
  },
  {
   "cell_type": "code",
   "execution_count": 8,
   "metadata": {},
   "outputs": [
    {
     "name": "stdout",
     "output_type": "stream",
     "text": [
      "Accuracy:\n",
      " 81.0630826977 \n",
      "\n"
     ]
    }
   ],
   "source": [
    "from sklearn.tree import DecisionTreeClassifier\n",
    "\n",
    "DT = DecisionTreeClassifier()\n",
    "DT.fit(X_train, Y_train)\n",
    "predictions = DT.predict(X_validation)\n",
    "\n",
    "print('Accuracy:\\n',sklearn.metrics.accuracy_score(Y_validation, predictions)*100,\"\\n\")"
   ]
  },
  {
   "cell_type": "markdown",
   "metadata": {},
   "source": [
    "### Logistic Regression "
   ]
  },
  {
   "cell_type": "code",
   "execution_count": 9,
   "metadata": {},
   "outputs": [
    {
     "name": "stdout",
     "output_type": "stream",
     "text": [
      "Accuracy:\n",
      " 79.5374742705 \n",
      "\n"
     ]
    }
   ],
   "source": [
    "from sklearn.linear_model import LogisticRegression\n",
    "\n",
    "LR = LogisticRegression()\n",
    "LR.fit(X_train, Y_train)\n",
    "predictions = LR.predict(X_validation)\n",
    "\n",
    "print('Accuracy:\\n',sklearn.metrics.accuracy_score(Y_validation, predictions)*100,\"\\n\")"
   ]
  },
  {
   "cell_type": "markdown",
   "metadata": {},
   "source": [
    "### Linear Discriminant Analysis"
   ]
  },
  {
   "cell_type": "code",
   "execution_count": 10,
   "metadata": {},
   "outputs": [
    {
     "name": "stdout",
     "output_type": "stream",
     "text": [
      "Accuracy:\n",
      " 81.910642935 \n",
      "\n"
     ]
    }
   ],
   "source": [
    "from sklearn.discriminant_analysis import LinearDiscriminantAnalysis\n",
    "\n",
    "LDA = LinearDiscriminantAnalysis()\n",
    "LDA.fit(X_train, Y_train)\n",
    "predictions = LDA.predict(X_validation)\n",
    "\n",
    "print('Accuracy:\\n',sklearn.metrics.accuracy_score(Y_validation, predictions)*100,\"\\n\")"
   ]
  },
  {
   "cell_type": "markdown",
   "metadata": {
    "collapsed": true
   },
   "source": [
    "### K Neighbors"
   ]
  },
  {
   "cell_type": "code",
   "execution_count": 12,
   "metadata": {},
   "outputs": [
    {
     "name": "stdout",
     "output_type": "stream",
     "text": [
      "Accuracy:\n",
      " 77.0674415789 \n",
      "\n"
     ]
    }
   ],
   "source": [
    "from sklearn.neighbors import KNeighborsClassifier\n",
    "\n",
    "KNC = KNeighborsClassifier()\n",
    "KNC.fit(X_train, Y_train)\n",
    "predictions = KNC.predict(X_validation)\n",
    "\n",
    "print('Accuracy:\\n',sklearn.metrics.accuracy_score(Y_validation, predictions)*100,\"\\n\")"
   ]
  },
  {
   "cell_type": "markdown",
   "metadata": {},
   "source": [
    "### Naive Bayes"
   ]
  },
  {
   "cell_type": "code",
   "execution_count": 13,
   "metadata": {},
   "outputs": [
    {
     "name": "stdout",
     "output_type": "stream",
     "text": [
      "Accuracy:\n",
      " 79.4406102434 \n",
      "\n"
     ]
    }
   ],
   "source": [
    "from sklearn.naive_bayes import GaussianNB\n",
    "\n",
    "GNB = GaussianNB()\n",
    "GNB.fit(X_train, Y_train)\n",
    "predictions = GNB.predict(X_validation)\n",
    "\n",
    "print('Accuracy:\\n',sklearn.metrics.accuracy_score(Y_validation, predictions)*100,\"\\n\")"
   ]
  }
 ],
 "metadata": {
  "kernelspec": {
   "display_name": "Python 3",
   "language": "python",
   "name": "python3"
  },
  "language_info": {
   "codemirror_mode": {
    "name": "ipython",
    "version": 3
   },
   "file_extension": ".py",
   "mimetype": "text/x-python",
   "name": "python",
   "nbconvert_exporter": "python",
   "pygments_lexer": "ipython3",
   "version": "3.6.3"
  }
 },
 "nbformat": 4,
 "nbformat_minor": 2
}
