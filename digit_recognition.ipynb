{
 "cells": [
  {
   "cell_type": "code",
   "execution_count": 1,
   "metadata": {},
   "outputs": [
    {
     "name": "stdout",
     "output_type": "stream",
     "text": [
      "1797\n"
     ]
    }
   ],
   "source": [
    "import pandas\n",
    "from pandas.tools.plotting import scatter_matrix\n",
    "import matplotlib.pyplot as plt\n",
    "from sklearn import model_selection\n",
    "from sklearn.metrics import classification_report\n",
    "from sklearn.metrics import confusion_matrix\n",
    "from sklearn.metrics import accuracy_score\n",
    "from sklearn.linear_model import LogisticRegression\n",
    "from sklearn.tree import DecisionTreeClassifier\n",
    "from sklearn.neighbors import KNeighborsClassifier\n",
    "from sklearn.discriminant_analysis import LinearDiscriminantAnalysis\n",
    "from sklearn.naive_bayes import GaussianNB\n",
    "from sklearn import datasets\n",
    "\n",
    "## The digits datas\n",
    "digits = datasets.load_digits()\n",
    "print(len(digits.images))"
   ]
  },
  {
   "cell_type": "code",
   "execution_count": 2,
   "metadata": {},
   "outputs": [
    {
     "data": {
      "image/png": "[encoded data removed]",
      "text/plain": [
       "<matplotlib.figure.Figure at 0x9eb111f080>"
      ]
     },
     "metadata": {},
     "output_type": "display_data"
    }
   ],
   "source": [
    "for i in range(10):\n",
    "    plt.subplot(2,5,i+1)\n",
    "    plt.imshow(digits.images[i+20], cmap=plt.cm.gray_r,interpolation='nearest')\n",
    "    plt.axis('off')\n",
    "    plt.title(digits.target[i+20])\n",
    "    #print(digits.target[i])\n",
    "plt.show()"
   ]
  },
  {
   "cell_type": "code",
   "execution_count": 21,
   "metadata": {},
   "outputs": [
    {
     "name": "stdout",
     "output_type": "stream",
     "text": [
      "[  0.   0.   0.  12.  13.   5.   0.   0.   0.   0.   0.  11.  16.   9.   0.\n",
      "   0.   0.   0.   3.  15.  16.   6.   0.   0.   0.   7.  15.  16.  16.   2.\n",
      "   0.   0.   0.   0.   1.  16.  16.   3.   0.   0.   0.   0.   1.  16.  16.\n",
      "   6.   0.   0.   0.   0.   1.  16.  16.   6.   0.   0.   0.   0.   0.  11.\n",
      "  16.  10.   0.   0.]\n",
      "(1797, 64)\n"
     ]
    }
   ],
   "source": [
    "noofSamples = len(digits.images)\n",
    "X = digits.images.reshape(noofSamples, -1)\n",
    "\n",
    "# print(digits.images[1])\n",
    "print(X[1])\n",
    "print(X.shape)\n",
    "\n",
    "Y = digits.target"
   ]
  },
  {
   "cell_type": "code",
   "execution_count": 23,
   "metadata": {},
   "outputs": [
    {
     "name": "stdout",
     "output_type": "stream",
     "text": [
      "1437\n",
      "360\n",
      "0.858333333333\n",
      "[[42  0  0  0  1  0  0  0  0  0]\n",
      " [ 0 36  1  1  1  0  0  0  1  2]\n",
      " [ 0  2 33  1  0  0  0  0  3  1]\n",
      " [ 0  0  1 31  0  0  0  0  1  1]\n",
      " [ 0  1  0  0 35  0  0  1  0  0]\n",
      " [ 0  1  0  0  0 27  0  0  0  0]\n",
      " [ 0  0  0  0  2  0 26  0  0  0]\n",
      " [ 0  0  0  1  4  1  0 25  0  2]\n",
      " [ 0  5  4  2  1  0  1  0 27  3]\n",
      " [ 0  1  0  1  1  2  0  0  0 27]]\n",
      "             precision    recall  f1-score   support\n",
      "\n",
      "          0       1.00      0.98      0.99        43\n",
      "          1       0.78      0.86      0.82        42\n",
      "          2       0.85      0.82      0.84        40\n",
      "          3       0.84      0.91      0.87        34\n",
      "          4       0.78      0.95      0.85        37\n",
      "          5       0.90      0.96      0.93        28\n",
      "          6       0.96      0.93      0.95        28\n",
      "          7       0.96      0.76      0.85        33\n",
      "          8       0.84      0.63      0.72        43\n",
      "          9       0.75      0.84      0.79        32\n",
      "\n",
      "avg / total       0.86      0.86      0.86       360\n",
      "\n"
     ]
    }
   ],
   "source": [
    "validation_size = 0.20\n",
    "seed = 7\n",
    "X_train, X_validation, Y_train, Y_validation = model_selection.train_test_split(X, Y, test_size=validation_size, random_state=seed)\n",
    "\n",
    "print(len(X_train))\n",
    "print(len(X_validation))\n",
    "\n",
    "DT = DecisionTreeClassifier()\n",
    "DT.fit(X_train, Y_train)\n",
    "predictions = DT.predict(X_validation)\n",
    "print(accuracy_score(Y_validation, predictions))\n",
    "print(confusion_matrix(Y_validation, predictions))\n",
    "print(classification_report(Y_validation, predictions))"
   ]
  },
  {
   "cell_type": "code",
   "execution_count": 26,
   "metadata": {},
   "outputs": [
    {
     "name": "stdout",
     "output_type": "stream",
     "text": [
      "[ 0.90277778  0.84722222  0.91666667  0.91666667  0.91666667  0.90277778\n",
      "  0.83333333  0.79166667  0.80555556  0.93055556  0.93055556  0.88888889\n",
      "  0.80555556  0.84722222  0.90277778  0.91666667  0.84722222  0.8028169\n",
      "  0.91549296  0.90140845]\n",
      "0.876124804382\n"
     ]
    }
   ],
   "source": [
    "# Cross Validation\n",
    "\n",
    "seed = 7\n",
    "scoring = 'accuracy'\n",
    "kfold = model_selection.KFold(n_splits=20, random_state=seed)\n",
    "cv_results = model_selection.cross_val_score(DT, X_train, Y_train, cv=kfold, scoring=scoring)\n",
    "print(cv_results)\n",
    "print(sum(cv_results)/20)\n"
   ]
  }
 ],
 "metadata": {
  "kernelspec": {
   "display_name": "Python 3",
   "language": "python",
   "name": "python3"
  },
  "language_info": {
   "codemirror_mode": {
    "name": "ipython",
    "version": 3
   },
   "file_extension": ".py",
   "mimetype": "text/x-python",
   "name": "python",
   "nbconvert_exporter": "python",
   "pygments_lexer": "ipython3",
   "version": "3.6.1"
  }
 },
 "nbformat": 4,
 "nbformat_minor": 2
}
