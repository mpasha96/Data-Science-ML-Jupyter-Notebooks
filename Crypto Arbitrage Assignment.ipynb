{
 "cells": [
  {
   "cell_type": "code",
   "execution_count": 2,
   "metadata": {},
   "outputs": [
    {
     "data": {
      "text/html": [
       "<div>\n",
       "<style>\n",
       "    .dataframe thead tr:only-child th {\n",
       "        text-align: right;\n",
       "    }\n",
       "\n",
       "    .dataframe thead th {\n",
       "        text-align: left;\n",
       "    }\n",
       "\n",
       "    .dataframe tbody tr th {\n",
       "        vertical-align: top;\n",
       "    }\n",
       "</style>\n",
       "<table border=\"1\" class=\"dataframe\">\n",
       "  <thead>\n",
       "    <tr style=\"text-align: right;\">\n",
       "      <th></th>\n",
       "      <th>market</th>\n",
       "      <th>price</th>\n",
       "      <th>volume</th>\n",
       "    </tr>\n",
       "  </thead>\n",
       "  <tbody>\n",
       "    <tr>\n",
       "      <th>0</th>\n",
       "      <td>BitFinex</td>\n",
       "      <td>865.12000000</td>\n",
       "      <td>46095.160981</td>\n",
       "    </tr>\n",
       "    <tr>\n",
       "      <th>1</th>\n",
       "      <td>Bittrex</td>\n",
       "      <td>866.99999999</td>\n",
       "      <td>1505.153346</td>\n",
       "    </tr>\n",
       "    <tr>\n",
       "      <th>2</th>\n",
       "      <td>C-Cex</td>\n",
       "      <td>872.00000000</td>\n",
       "      <td>0.777140</td>\n",
       "    </tr>\n",
       "    <tr>\n",
       "      <th>3</th>\n",
       "      <td>Cex.io</td>\n",
       "      <td>880.00000000</td>\n",
       "      <td>1342.770708</td>\n",
       "    </tr>\n",
       "    <tr>\n",
       "      <th>4</th>\n",
       "      <td>Exmo</td>\n",
       "      <td>869.53680000</td>\n",
       "      <td>3523.338842</td>\n",
       "    </tr>\n",
       "    <tr>\n",
       "      <th>5</th>\n",
       "      <td>Hitbtc</td>\n",
       "      <td>873.15000000</td>\n",
       "      <td>4324.411000</td>\n",
       "    </tr>\n",
       "    <tr>\n",
       "      <th>6</th>\n",
       "      <td>Kraken</td>\n",
       "      <td>864.08000000</td>\n",
       "      <td>12833.495728</td>\n",
       "    </tr>\n",
       "    <tr>\n",
       "      <th>7</th>\n",
       "      <td>Livecoin</td>\n",
       "      <td>858.09335000</td>\n",
       "      <td>790.561944</td>\n",
       "    </tr>\n",
       "    <tr>\n",
       "      <th>8</th>\n",
       "      <td>Poloniex</td>\n",
       "      <td>865.90760000</td>\n",
       "      <td>2275.424176</td>\n",
       "    </tr>\n",
       "    <tr>\n",
       "      <th>9</th>\n",
       "      <td>wexnz</td>\n",
       "      <td>854.00000000</td>\n",
       "      <td>4932.994170</td>\n",
       "    </tr>\n",
       "  </tbody>\n",
       "</table>\n",
       "</div>"
      ],
      "text/plain": [
       "     market         price        volume\n",
       "0  BitFinex  865.12000000  46095.160981\n",
       "1   Bittrex  866.99999999   1505.153346\n",
       "2     C-Cex  872.00000000      0.777140\n",
       "3    Cex.io  880.00000000   1342.770708\n",
       "4      Exmo  869.53680000   3523.338842\n",
       "5    Hitbtc  873.15000000   4324.411000\n",
       "6    Kraken  864.08000000  12833.495728\n",
       "7  Livecoin  858.09335000    790.561944\n",
       "8  Poloniex  865.90760000   2275.424176\n",
       "9     wexnz  854.00000000   4932.994170"
      ]
     },
     "execution_count": 2,
     "metadata": {},
     "output_type": "execute_result"
    }
   ],
   "source": [
    "import json\n",
    "import requests\n",
    "import pandas as pd\n",
    "%matplotlib inline\n",
    "\n",
    "response = requests.get(\"https://api.cryptonator.com/api/full/eth-usd\")\n",
    "json_data = json.loads(response.text)\n",
    "\n",
    "base = json_data[\"ticker\"][\"base\"]\n",
    "target = json_data[\"ticker\"][\"target\"]\n",
    "markets = json_data[\"ticker\"][\"markets\"]\n",
    "\n",
    "markets_df = pd.DataFrame(markets)\n",
    "markets_df"
   ]
  },
  {
   "cell_type": "code",
   "execution_count": 3,
   "metadata": {},
   "outputs": [
    {
     "name": "stdout",
     "output_type": "stream",
     "text": [
      "ETH/USD pairing:\n",
      "\n",
      "Market Cex.io has the maximum price of $880.00000000 and has volume 1342.770708\n",
      "Market wexnz has the minimum price of 854.00000000 and has volume 4932.99417\n",
      "\n",
      "We can prfit $26.0 from the difference in prices\n"
     ]
    }
   ],
   "source": [
    "print(base+\"/\"+target+\" pairing:\\n\")\n",
    "\n",
    "max_index = markets_df[\"price\"].argmax()\n",
    "max_market = markets_df.iloc[max_index]\n",
    "\n",
    "print(\"Market {0} has the maximum price of ${1} and has volume {2}\".format(max_market.market, max_market.price, max_market.volume))\n",
    "\n",
    "min_index = markets_df[\"price\"].argmin()\n",
    "min_market = markets_df.iloc[min_index]\n",
    "\n",
    "print(\"Market {0} has the minimum price of {1} and has volume {2}\".format(min_market.market, min_market.price, min_market.volume))\n",
    "difference = float(max_market.price)-float(min_market.price)\n",
    "print(\"\\nWe can prfit ${0} from the difference in prices\".format(str(difference)))"
   ]
  },
  {
   "cell_type": "code",
   "execution_count": 4,
   "metadata": {},
   "outputs": [
    {
     "name": "stdout",
     "output_type": "stream",
     "text": [
      "Visualization\n"
     ]
    },
    {
     "data": {
      "image/png": "[encoded data removed]",
      "text/plain": [
       "<matplotlib.figure.Figure at 0x7f88c3e61d30>"
      ]
     },
     "metadata": {},
     "output_type": "display_data"
    }
   ],
   "source": [
    "markets_df[[\"price\",\"volume\"]] = markets_df[[\"price\",\"volume\"]].apply(pd.to_numeric) \n",
    "ax = markets_df.plot.scatter(x='price',y='volume',color=\"red\",s=50,figsize=(10, 6),alpha=0.5)\n",
    "markets_df[['price','volume','market']].apply(lambda x: ax.text(*x),axis=1)\n",
    "print(\"Visualization\")"
   ]
  },
  {
   "cell_type": "code",
   "execution_count": null,
   "metadata": {
    "collapsed": true
   },
   "outputs": [],
   "source": []
  }
 ],
 "metadata": {
  "kernelspec": {
   "display_name": "Python 3",
   "language": "python",
   "name": "python3"
  },
  "language_info": {
   "codemirror_mode": {
    "name": "ipython",
    "version": 3
   },
   "file_extension": ".py",
   "mimetype": "text/x-python",
   "name": "python",
   "nbconvert_exporter": "python",
   "pygments_lexer": "ipython3",
   "version": "3.6.3"
  }
 },
 "nbformat": 4,
 "nbformat_minor": 2
}
