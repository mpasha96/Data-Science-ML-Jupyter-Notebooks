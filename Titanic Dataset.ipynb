{
 "cells": [
  {
   "cell_type": "markdown",
   "metadata": {},
   "source": [
    "# Titanic Dataset"
   ]
  },
  {
   "cell_type": "code",
   "execution_count": 11,
   "metadata": {
    "collapsed": true
   },
   "outputs": [],
   "source": [
    "import pandas as pd\n",
    "from sklearn import model_selection\n",
    "from sklearn.metrics import classification_report\n",
    "from sklearn.metrics import confusion_matrix\n",
    "from sklearn.metrics import accuracy_score\n",
    "from sklearn import metrics\n",
    "from sklearn.linear_model import LogisticRegression\n",
    "from sklearn.tree import DecisionTreeClassifier\n",
    "from sklearn.neighbors import KNeighborsClassifier\n",
    "from sklearn.discriminant_analysis import LinearDiscriminantAnalysis\n",
    "from sklearn.naive_bayes import GaussianNB\n",
    "from sklearn.svm import SVC"
   ]
  },
  {
   "cell_type": "code",
   "execution_count": 12,
   "metadata": {},
   "outputs": [
    {
     "name": "stdout",
     "output_type": "stream",
     "text": [
      "Index(['PassengerId', 'Pclass', 'SibSp', 'Parch'], dtype='object')\n",
      "(596, 4) (295, 4) (596,) (295,)\n"
     ]
    }
   ],
   "source": [
    "df = pd.read_csv('gender_submission.csv')\n",
    "df_train = pd.read_csv('train.csv')\n",
    "X = df_train.drop(['Survived','Age','Name','Sex','Ticket', 'Cabin','Embarked','Fare'], axis=1)\n",
    "print(X.columns)\n",
    "X = X.as_matrix()\n",
    "Y = df_train['Survived']\n",
    "Y = Y.as_matrix().flatten()\n",
    "\n",
    "validation_size = 0.33\n",
    "seed = 7\n",
    "X_train, X_validation, Y_train, Y_validation = model_selection.train_test_split(X, Y, test_size=validation_size, random_state=seed)\n",
    "print(X_train.shape, X_validation.shape, Y_train.shape, Y_validation.shape)"
   ]
  },
  {
   "cell_type": "markdown",
   "metadata": {},
   "source": [
    "## Logistic Regression"
   ]
  },
  {
   "cell_type": "code",
   "execution_count": 3,
   "metadata": {},
   "outputs": [
    {
     "name": "stdout",
     "output_type": "stream",
     "text": [
      "Accuracy:\n",
      " 0.694915254237 \n",
      "\n",
      "Confusion Matrix:\n",
      " [[149  27]\n",
      " [ 63  56]] \n",
      "\n",
      "Classification Report:\n",
      "              precision    recall  f1-score   support\n",
      "\n",
      "          0       0.70      0.85      0.77       176\n",
      "          1       0.67      0.47      0.55       119\n",
      "\n",
      "avg / total       0.69      0.69      0.68       295\n",
      " \n",
      "\n"
     ]
    }
   ],
   "source": [
    "LR = LogisticRegression()\n",
    "LR.fit(X_train, Y_train)\n",
    "predictions = LR.predict(X_validation)\n",
    "\n",
    "print('Accuracy:\\n',accuracy_score(Y_validation, predictions),\"\\n\")\n",
    "print('Confusion Matrix:\\n',confusion_matrix(Y_validation, predictions),\"\\n\")\n",
    "print('Classification Report:\\n',classification_report(Y_validation, predictions),\"\\n\")"
   ]
  },
  {
   "cell_type": "code",
   "execution_count": null,
   "metadata": {
    "collapsed": true
   },
   "outputs": [],
   "source": []
  },
  {
   "cell_type": "code",
   "execution_count": null,
   "metadata": {
    "collapsed": true
   },
   "outputs": [],
   "source": []
  }
 ],
 "metadata": {
  "kernelspec": {
   "display_name": "Python 3",
   "language": "python",
   "name": "python3"
  },
  "language_info": {
   "codemirror_mode": {
    "name": "ipython",
    "version": 3
   },
   "file_extension": ".py",
   "mimetype": "text/x-python",
   "name": "python",
   "nbconvert_exporter": "python",
   "pygments_lexer": "ipython3",
   "version": "3.6.1"
  }
 },
 "nbformat": 4,
 "nbformat_minor": 2
}
