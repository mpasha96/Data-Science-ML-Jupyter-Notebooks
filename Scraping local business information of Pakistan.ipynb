{
 "cells": [
  {
   "cell_type": "markdown",
   "metadata": {},
   "source": [
    "<h1><center>SCRAPING SCRIPT</center></h1>\n",
    "<h3><center>Script for building \"Business Information Dataset\" of Pakistan.</center></h3>"
   ]
  },
  {
   "cell_type": "code",
   "execution_count": 1,
   "metadata": {
    "collapsed": true
   },
   "outputs": [],
   "source": [
    "# Impoting relevant libraries\n",
    "import requests\n",
    "from bs4 import BeautifulSoup\n",
    "import pandas as pd\n",
    "import numpy as np\n",
    "\n",
    "from timeit import default_timer as timer\n",
    "start= timer()\n"
   ]
  },
  {
   "cell_type": "code",
   "execution_count": 2,
   "metadata": {},
   "outputs": [],
   "source": [
    "baseURL = \"http://www.findpk.com/yp/A-Z-Yellow-Pages-of-Pakistan-Company-Details.asp?action=detail&ComID=\"\n",
    "records = []\n",
    "index = 1 #starting index \n",
    "n = 5000 #number of pages to scrape\n",
    "count = 0\n",
    "nan = np.nan\n",
    "rec = [nan,nan,nan,nan,nan,nan,nan]\n"
   ]
  },
  {
   "cell_type": "code",
   "execution_count": 3,
   "metadata": {},
   "outputs": [],
   "source": [
    "# scraping n number of pages\n",
    "# suppressing errors on pages with unstructured HTML via exception \"handling\" (by not handling - thats the catch :D) \n",
    "# appending results to a list in the form of a tuple\n",
    "\n",
    "for i in range(index,index+n):\n",
    "    count+=1\n",
    "    url = str(baseURL)+ str(i)\n",
    "    record = rec[:] # cloning lists - the the efficient way\n",
    "    \n",
    "    try:\n",
    "        r = requests.get(url)\n",
    "        soup = BeautifulSoup(r.text, 'html.parser')\n",
    "\n",
    "        if(soup.find('span', attrs={'itemprop':'brand'})):\n",
    "            record[0] = soup.find('span', attrs={'itemprop':'brand'}).text\n",
    "        if(soup.find('font', attrs={'itemprop':'founder'})):\n",
    "            record[1] = soup.find('font', attrs={'itemprop':'founder'}).text\n",
    "        if(soup.find('font', attrs={'itemprop':'telephone'})):\n",
    "            record[2] = soup.find('font', attrs={'itemprop':'telephone'}).text\n",
    "        if(soup.find('font', attrs={'itemprop':'url'})):\n",
    "            record[3] = soup.find('font', attrs={'itemprop':'url'}).text\n",
    "        if(soup.find('p', attrs={'style':'text-align: justify; margin-top: 0px'})):\n",
    "            record[4] = soup.find('p', attrs={'style':'text-align: justify; margin-top: 0px'}).text\n",
    "        if(soup.find('font', attrs={'itemprop':'location'})):\n",
    "            record[5] = soup.find('font', attrs={'itemprop':'location'}).text\n",
    "        if(soup.find(text='City:').parent.parent.parent.find_next_sibling().next.next):\n",
    "            record[6] = soup.find(text='City:').parent.parent.parent.find_next_sibling().next.next.text\n",
    "        \n",
    "    except:\n",
    "        pass\n",
    "    records.append(tuple(record))"
   ]
  },
  {
   "cell_type": "code",
   "execution_count": 4,
   "metadata": {},
   "outputs": [],
   "source": [
    "# converting the list of records into pandas dataframe\n",
    "# saving the dataframe to a csv file in utf-8 encoding format\n",
    "df = pd.DataFrame(records, columns=['Business Name', 'Contact Name', 'Telephone','Website','Services','Address','City'])\n",
    "df.to_csv('yellow_pages_pak_1.csv', index=False, encoding='utf-8') \n"
   ]
  },
  {
   "cell_type": "code",
   "execution_count": 6,
   "metadata": {},
   "outputs": [],
   "source": [
    "end = timer() \n",
    "print(\"Time taken:\", end-start) "
   ]
  },
  {
   "cell_type": "code",
   "execution_count": null,
   "metadata": {},
   "outputs": [],
   "source": []
  }
 ],
 "metadata": {
  "kernelspec": {
   "display_name": "Python 3",
   "language": "python",
   "name": "python3"
  },
  "language_info": {
   "codemirror_mode": {
    "name": "ipython",
    "version": 3
   },
   "file_extension": ".py",
   "mimetype": "text/x-python",
   "name": "python",
   "nbconvert_exporter": "python",
   "pygments_lexer": "ipython3",
   "version": "3.6.3"
  }
 },
 "nbformat": 4,
 "nbformat_minor": 2
}
